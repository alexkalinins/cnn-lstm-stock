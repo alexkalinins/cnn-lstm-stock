{
 "cells": [
  {
   "cell_type": "code",
   "execution_count": 2,
   "metadata": {},
   "outputs": [],
   "source": [
    "import yfinance as yf\n",
    "import pandas as pd\n",
    "import math\n",
    "from tqdm import tqdm as tqdm\n",
    "\n",
    "DOWNLOAD = True"
   ]
  },
  {
   "cell_type": "code",
   "execution_count": 3,
   "metadata": {},
   "outputs": [],
   "source": [
    "tickers = ['TSLA',\n",
    "           'AAPL',\n",
    "           'MSFT',\n",
    "           'U',\n",
    "           'CCL',\n",
    "           'TD',\n",
    "           'SPY',\n",
    "           'FB',\n",
    "           'V',\n",
    "           'DIS',\n",
    "           'CNR',\n",
    "           'WEED.TO',\n",
    "           'SNC.TO',\n",
    "           'SHOP',\n",
    "           'SU.TO',\n",
    "           'CM.TO',\n",
    "           'TD.TO',\n",
    "           'ENB.TO',\n",
    "           'APHA.TO',\n",
    "           'XIU.TO', # s&p/tsx composite 60\n",
    "           'AC.TO']"
   ]
  },
  {
   "cell_type": "code",
   "execution_count": null,
   "metadata": {},
   "outputs": [],
   "source": []
  },
  {
   "cell_type": "code",
   "execution_count": null,
   "metadata": {},
   "outputs": [],
   "source": []
  },
  {
   "cell_type": "code",
   "execution_count": null,
   "metadata": {},
   "outputs": [],
   "source": []
  },
  {
   "cell_type": "code",
   "execution_count": null,
   "metadata": {},
   "outputs": [],
   "source": []
  },
  {
   "cell_type": "code",
   "execution_count": 4,
   "metadata": {},
   "outputs": [],
   "source": [
    "# u = yf.Ticker(\"U\")\n",
    "# udata = u.history(period='2y', interval = '1h')"
   ]
  },
  {
   "cell_type": "code",
   "execution_count": 5,
   "metadata": {},
   "outputs": [],
   "source": [
    "#tdata.loc[tdata['name']=='2021-01-22']\n",
    "# tdata.tail(10)"
   ]
  },
  {
   "cell_type": "code",
   "execution_count": 6,
   "metadata": {},
   "outputs": [],
   "source": [
    "# datee=udata.iloc[1]\n",
    "# datee"
   ]
  },
  {
   "cell_type": "code",
   "execution_count": 7,
   "metadata": {},
   "outputs": [],
   "source": [
    "# import pandas as pd\n",
    "# datee.name == pd.Timestamp('2020-09-18')\n",
    "# true"
   ]
  },
  {
   "cell_type": "code",
   "execution_count": 4,
   "metadata": {},
   "outputs": [
    {
     "name": "stderr",
     "output_type": "stream",
     "text": [
      "100%|██████████| 21/21 [00:05<00:00,  3.83it/s]\n"
     ]
    }
   ],
   "source": [
    "raws = {}\n",
    "\n",
    "for ticker in tqdm(tickers):\n",
    "    t = yf.Ticker(ticker)\n",
    "    t_data = t.history(period = '10y', interval = '1d')\n",
    "    \n",
    "    raws[ticker] = t_data\n",
    "    "
   ]
  },
  {
   "cell_type": "code",
   "execution_count": 5,
   "metadata": {},
   "outputs": [
    {
     "name": "stderr",
     "output_type": "stream",
     "text": [
      "100%|██████████| 21/21 [00:00<00:00, 778.36it/s]\n"
     ]
    },
    {
     "data": {
      "text/html": [
       "<div>\n",
       "<style scoped>\n",
       "    .dataframe tbody tr th:only-of-type {\n",
       "        vertical-align: middle;\n",
       "    }\n",
       "\n",
       "    .dataframe tbody tr th {\n",
       "        vertical-align: top;\n",
       "    }\n",
       "\n",
       "    .dataframe thead th {\n",
       "        text-align: right;\n",
       "    }\n",
       "</style>\n",
       "<table border=\"1\" class=\"dataframe\">\n",
       "  <thead>\n",
       "    <tr style=\"text-align: right;\">\n",
       "      <th></th>\n",
       "      <th>Open</th>\n",
       "      <th>High</th>\n",
       "      <th>Low</th>\n",
       "      <th>Close</th>\n",
       "      <th>Volume</th>\n",
       "    </tr>\n",
       "    <tr>\n",
       "      <th>Date</th>\n",
       "      <th></th>\n",
       "      <th></th>\n",
       "      <th></th>\n",
       "      <th></th>\n",
       "      <th></th>\n",
       "    </tr>\n",
       "  </thead>\n",
       "  <tbody>\n",
       "    <tr>\n",
       "      <th>2011-01-27</th>\n",
       "      <td>4.948</td>\n",
       "      <td>5.016</td>\n",
       "      <td>4.906</td>\n",
       "      <td>4.984</td>\n",
       "      <td>4478500</td>\n",
       "    </tr>\n",
       "    <tr>\n",
       "      <th>2011-01-28</th>\n",
       "      <td>4.976</td>\n",
       "      <td>4.976</td>\n",
       "      <td>4.750</td>\n",
       "      <td>4.802</td>\n",
       "      <td>5242000</td>\n",
       "    </tr>\n",
       "    <tr>\n",
       "      <th>2011-01-31</th>\n",
       "      <td>4.810</td>\n",
       "      <td>4.824</td>\n",
       "      <td>4.700</td>\n",
       "      <td>4.820</td>\n",
       "      <td>4151500</td>\n",
       "    </tr>\n",
       "    <tr>\n",
       "      <th>2011-02-01</th>\n",
       "      <td>4.862</td>\n",
       "      <td>4.946</td>\n",
       "      <td>4.708</td>\n",
       "      <td>4.782</td>\n",
       "      <td>3539000</td>\n",
       "    </tr>\n",
       "    <tr>\n",
       "      <th>2011-02-02</th>\n",
       "      <td>4.832</td>\n",
       "      <td>4.836</td>\n",
       "      <td>4.734</td>\n",
       "      <td>4.788</td>\n",
       "      <td>2847500</td>\n",
       "    </tr>\n",
       "  </tbody>\n",
       "</table>\n",
       "</div>"
      ],
      "text/plain": [
       "             Open   High    Low  Close   Volume\n",
       "Date                                           \n",
       "2011-01-27  4.948  5.016  4.906  4.984  4478500\n",
       "2011-01-28  4.976  4.976  4.750  4.802  5242000\n",
       "2011-01-31  4.810  4.824  4.700  4.820  4151500\n",
       "2011-02-01  4.862  4.946  4.708  4.782  3539000\n",
       "2011-02-02  4.832  4.836  4.734  4.788  2847500"
      ]
     },
     "execution_count": 5,
     "metadata": {},
     "output_type": "execute_result"
    }
   ],
   "source": [
    "col_d = {} # dropped columns\n",
    "\n",
    "for ticker in tqdm(tickers):\n",
    "    raw = raws[ticker]\n",
    "    \n",
    "    col_d[ticker] = raw.drop(columns=['Dividends', 'Stock Splits'])\n",
    "    \n",
    "col_d['TSLA'].head()"
   ]
  },
  {
   "cell_type": "code",
   "execution_count": 6,
   "metadata": {},
   "outputs": [],
   "source": [
    "import numpy as np"
   ]
  },
  {
   "cell_type": "code",
   "execution_count": 12,
   "metadata": {},
   "outputs": [
    {
     "name": "stderr",
     "output_type": "stream",
     "text": [
      "100%|██████████| 21/21 [00:00<00:00, 83.35it/s]"
     ]
    },
    {
     "name": "stdout",
     "output_type": "stream",
     "text": [
      "                Open      High       Low     Close    Volume  DayOfWeek\n",
      "Date                                                                   \n",
      "2011-01-27  0.001214  0.008039  0.017842  0.006869 -0.170571       0.75\n",
      "2011-01-28  0.005659 -0.007974 -0.031798 -0.036517  0.170481       1.00\n",
      "2011-01-31 -0.033360 -0.030547 -0.010526  0.003748 -0.208031       0.00\n",
      "2011-02-01  0.010811  0.025290  0.001702 -0.007884 -0.147537       0.25\n",
      "2011-02-02 -0.006170 -0.022240  0.005523  0.001255 -0.195394       0.50\n",
      "...              ...       ...       ...       ...       ...        ...\n",
      "2021-01-20  0.024994  0.011176  0.005138  0.006986  0.011783       0.50\n",
      "2021-01-21 -0.004355 -0.004398  0.004945 -0.006420 -0.197453       0.75\n",
      "2021-01-22 -0.024199 -0.009022 -0.015212  0.001953 -0.025808       1.00\n",
      "2021-01-25  0.024799  0.061792  0.012310  0.040348  1.045065       0.00\n",
      "2021-01-26  0.042550 -0.004998  0.039079  0.008833 -0.611280       0.25\n",
      "\n",
      "[2516 rows x 6 columns]\n"
     ]
    },
    {
     "name": "stderr",
     "output_type": "stream",
     "text": [
      "\n"
     ]
    }
   ],
   "source": [
    "good = {}\n",
    "\n",
    "for ticker in tqdm(tickers):\n",
    "    df = col_d[ticker]\n",
    "    df.dropna(inplace=True)  # drops NaN rows\n",
    "    \n",
    "    pct = df.pct_change()\n",
    "        \n",
    "    pct['DayOfWeek'] = [i.dayofweek/4 for i in df.index] # day of the week on [0,1]\n",
    "    \n",
    "    pct.dropna(inplace=True)\n",
    "    \n",
    "    good[ticker] = pct\n",
    "    \n",
    "\n",
    "print(good['TSLA'])\n",
    "\n",
    "    "
   ]
  },
  {
   "cell_type": "code",
   "execution_count": 13,
   "metadata": {},
   "outputs": [],
   "source": [
    "import pickle\n",
    "\n",
    "#serializing for future use\n",
    "\n",
    "with open('./data/std-stocks.pkl', 'wb') as f:\n",
    "    pickle.dump(good, f, protocol=pickle.HIGHEST_PROTOCOL)"
   ]
  },
  {
   "cell_type": "markdown",
   "metadata": {},
   "source": [
    "## Variables\n",
    "- Open (n)\n",
    "- High (n)\n",
    "- Low (n)\n",
    "- Close (n)\n",
    "- Volume (n)\n",
    "- Day of Week (ex. weekends)\n"
   ]
  },
  {
   "cell_type": "code",
   "execution_count": null,
   "metadata": {},
   "outputs": [],
   "source": [
    "# creating the 'answers'/future price\n",
    "outData = pd.DataFrame(data={'Future':[]})\n",
    "\n",
    "outData['Future'] = good['TSLA']['Close'].shift(-1)\n",
    "\n",
    "print(good['TSLA']['Close'])\n",
    "\n",
    "print(outData)"
   ]
  },
  {
   "cell_type": "code",
   "execution_count": 14,
   "metadata": {},
   "outputs": [
    {
     "name": "stderr",
     "output_type": "stream",
     "text": [
      "100%|██████████| 21/21 [00:00<00:00, 260.51it/s]\n"
     ]
    }
   ],
   "source": [
    "with_future = {}    \n",
    "    \n",
    "# adding future price\n",
    "for ticker in tqdm(good):\n",
    "    df = pd.DataFrame(good[ticker])\n",
    "    future = df['Close'].shift(-1) #shifts the values back by one\n",
    "    df.insert(len(df.columns), 'Future', future)\n",
    "    df.dropna(inplace=True)\n",
    "    \n",
    "    with_future[ticker] = df\n",
    "    \n",
    "    \n",
    "    "
   ]
  },
  {
   "cell_type": "code",
   "execution_count": 15,
   "metadata": {},
   "outputs": [
    {
     "data": {
      "text/html": [
       "<div>\n",
       "<style scoped>\n",
       "    .dataframe tbody tr th:only-of-type {\n",
       "        vertical-align: middle;\n",
       "    }\n",
       "\n",
       "    .dataframe tbody tr th {\n",
       "        vertical-align: top;\n",
       "    }\n",
       "\n",
       "    .dataframe thead th {\n",
       "        text-align: right;\n",
       "    }\n",
       "</style>\n",
       "<table border=\"1\" class=\"dataframe\">\n",
       "  <thead>\n",
       "    <tr style=\"text-align: right;\">\n",
       "      <th></th>\n",
       "      <th>Open</th>\n",
       "      <th>High</th>\n",
       "      <th>Low</th>\n",
       "      <th>Close</th>\n",
       "      <th>Volume</th>\n",
       "      <th>DayOfWeek</th>\n",
       "      <th>Future</th>\n",
       "    </tr>\n",
       "    <tr>\n",
       "      <th>Date</th>\n",
       "      <th></th>\n",
       "      <th></th>\n",
       "      <th></th>\n",
       "      <th></th>\n",
       "      <th></th>\n",
       "      <th></th>\n",
       "      <th></th>\n",
       "    </tr>\n",
       "  </thead>\n",
       "  <tbody>\n",
       "    <tr>\n",
       "      <th>2011-01-27</th>\n",
       "      <td>0.001214</td>\n",
       "      <td>0.008039</td>\n",
       "      <td>0.017842</td>\n",
       "      <td>0.006869</td>\n",
       "      <td>-0.170571</td>\n",
       "      <td>0.75</td>\n",
       "      <td>-0.036517</td>\n",
       "    </tr>\n",
       "    <tr>\n",
       "      <th>2011-01-28</th>\n",
       "      <td>0.005659</td>\n",
       "      <td>-0.007974</td>\n",
       "      <td>-0.031798</td>\n",
       "      <td>-0.036517</td>\n",
       "      <td>0.170481</td>\n",
       "      <td>1.00</td>\n",
       "      <td>0.003748</td>\n",
       "    </tr>\n",
       "    <tr>\n",
       "      <th>2011-01-31</th>\n",
       "      <td>-0.033360</td>\n",
       "      <td>-0.030547</td>\n",
       "      <td>-0.010526</td>\n",
       "      <td>0.003748</td>\n",
       "      <td>-0.208031</td>\n",
       "      <td>0.00</td>\n",
       "      <td>-0.007884</td>\n",
       "    </tr>\n",
       "    <tr>\n",
       "      <th>2011-02-01</th>\n",
       "      <td>0.010811</td>\n",
       "      <td>0.025290</td>\n",
       "      <td>0.001702</td>\n",
       "      <td>-0.007884</td>\n",
       "      <td>-0.147537</td>\n",
       "      <td>0.25</td>\n",
       "      <td>0.001255</td>\n",
       "    </tr>\n",
       "    <tr>\n",
       "      <th>2011-02-02</th>\n",
       "      <td>-0.006170</td>\n",
       "      <td>-0.022240</td>\n",
       "      <td>0.005523</td>\n",
       "      <td>0.001255</td>\n",
       "      <td>-0.195394</td>\n",
       "      <td>0.50</td>\n",
       "      <td>-0.012949</td>\n",
       "    </tr>\n",
       "    <tr>\n",
       "      <th>...</th>\n",
       "      <td>...</td>\n",
       "      <td>...</td>\n",
       "      <td>...</td>\n",
       "      <td>...</td>\n",
       "      <td>...</td>\n",
       "      <td>...</td>\n",
       "      <td>...</td>\n",
       "    </tr>\n",
       "    <tr>\n",
       "      <th>2021-01-19</th>\n",
       "      <td>-0.016667</td>\n",
       "      <td>-0.011513</td>\n",
       "      <td>0.016970</td>\n",
       "      <td>0.022260</td>\n",
       "      <td>-0.345834</td>\n",
       "      <td>0.25</td>\n",
       "      <td>0.006986</td>\n",
       "    </tr>\n",
       "    <tr>\n",
       "      <th>2021-01-20</th>\n",
       "      <td>0.024994</td>\n",
       "      <td>0.011176</td>\n",
       "      <td>0.005138</td>\n",
       "      <td>0.006986</td>\n",
       "      <td>0.011783</td>\n",
       "      <td>0.50</td>\n",
       "      <td>-0.006420</td>\n",
       "    </tr>\n",
       "    <tr>\n",
       "      <th>2021-01-21</th>\n",
       "      <td>-0.004355</td>\n",
       "      <td>-0.004398</td>\n",
       "      <td>0.004945</td>\n",
       "      <td>-0.006420</td>\n",
       "      <td>-0.197453</td>\n",
       "      <td>0.75</td>\n",
       "      <td>0.001953</td>\n",
       "    </tr>\n",
       "    <tr>\n",
       "      <th>2021-01-22</th>\n",
       "      <td>-0.024199</td>\n",
       "      <td>-0.009022</td>\n",
       "      <td>-0.015212</td>\n",
       "      <td>0.001953</td>\n",
       "      <td>-0.025808</td>\n",
       "      <td>1.00</td>\n",
       "      <td>0.040348</td>\n",
       "    </tr>\n",
       "    <tr>\n",
       "      <th>2021-01-25</th>\n",
       "      <td>0.024799</td>\n",
       "      <td>0.061792</td>\n",
       "      <td>0.012310</td>\n",
       "      <td>0.040348</td>\n",
       "      <td>1.045065</td>\n",
       "      <td>0.00</td>\n",
       "      <td>0.008833</td>\n",
       "    </tr>\n",
       "  </tbody>\n",
       "</table>\n",
       "<p>2515 rows × 7 columns</p>\n",
       "</div>"
      ],
      "text/plain": [
       "                Open      High       Low     Close    Volume  DayOfWeek  \\\n",
       "Date                                                                      \n",
       "2011-01-27  0.001214  0.008039  0.017842  0.006869 -0.170571       0.75   \n",
       "2011-01-28  0.005659 -0.007974 -0.031798 -0.036517  0.170481       1.00   \n",
       "2011-01-31 -0.033360 -0.030547 -0.010526  0.003748 -0.208031       0.00   \n",
       "2011-02-01  0.010811  0.025290  0.001702 -0.007884 -0.147537       0.25   \n",
       "2011-02-02 -0.006170 -0.022240  0.005523  0.001255 -0.195394       0.50   \n",
       "...              ...       ...       ...       ...       ...        ...   \n",
       "2021-01-19 -0.016667 -0.011513  0.016970  0.022260 -0.345834       0.25   \n",
       "2021-01-20  0.024994  0.011176  0.005138  0.006986  0.011783       0.50   \n",
       "2021-01-21 -0.004355 -0.004398  0.004945 -0.006420 -0.197453       0.75   \n",
       "2021-01-22 -0.024199 -0.009022 -0.015212  0.001953 -0.025808       1.00   \n",
       "2021-01-25  0.024799  0.061792  0.012310  0.040348  1.045065       0.00   \n",
       "\n",
       "              Future  \n",
       "Date                  \n",
       "2011-01-27 -0.036517  \n",
       "2011-01-28  0.003748  \n",
       "2011-01-31 -0.007884  \n",
       "2011-02-01  0.001255  \n",
       "2011-02-02 -0.012949  \n",
       "...              ...  \n",
       "2021-01-19  0.006986  \n",
       "2021-01-20 -0.006420  \n",
       "2021-01-21  0.001953  \n",
       "2021-01-22  0.040348  \n",
       "2021-01-25  0.008833  \n",
       "\n",
       "[2515 rows x 7 columns]"
      ]
     },
     "execution_count": 15,
     "metadata": {},
     "output_type": "execute_result"
    }
   ],
   "source": [
    "with_future['TSLA']"
   ]
  },
  {
   "cell_type": "code",
   "execution_count": 16,
   "metadata": {},
   "outputs": [
    {
     "name": "stderr",
     "output_type": "stream",
     "text": [
      "100%|██████████| 21/21 [00:00<00:00, 26.44it/s]\n"
     ]
    }
   ],
   "source": [
    "import random\n",
    "from collections import deque\n",
    "\n",
    "#data is 2D array where each subarray is row\n",
    "\n",
    "\n",
    "\n",
    "# converts data frame into individual sequences \n",
    "# df the dataframe where last column is 'future value'\n",
    "def to_seq(df):\n",
    "    sequences = []\n",
    "    \n",
    "    # deque for rolling over\n",
    "    day_sequence = deque(maxlen = 10) # deque for storing the days\n",
    "    \n",
    "    for row in df.values:\n",
    "        # appends values (in list) to day_sequence, excluding future price\n",
    "        day_sequence.append(row[:-1])\n",
    "        \n",
    "        if len(day_sequence) == 10:\n",
    "            # deque fully populated with 10 days of data\n",
    "            sequences.append([np.array(day_sequence), row[-1]])\n",
    "            \n",
    "    return sequences\n",
    "\n",
    "\n",
    "\n",
    "train_seq = {} # train sequences\n",
    "val_seq = {} #  out of sample val (last 5%)\n",
    "\n",
    "#convert into sequences\n",
    "for ticker in tqdm(with_future):\n",
    "    seq = to_seq(with_future[ticker])\n",
    "    \n",
    "    split = int(len(seq)*0.05)\n",
    "    \n",
    "    train = seq[:-split]  # 95%\n",
    "    test = seq[-split:]  # 5%\n",
    "    \n",
    "    random.shuffle(train)\n",
    "    random.shuffle(test)\n",
    "    \n",
    "    train_seq[ticker] = train\n",
    "    val_seq[ticker] = test\n",
    "\n"
   ]
  },
  {
   "cell_type": "code",
   "execution_count": 17,
   "metadata": {},
   "outputs": [
    {
     "data": {
      "text/plain": [
       "-0.027272701657507614"
      ]
     },
     "execution_count": 17,
     "metadata": {},
     "output_type": "execute_result"
    }
   ],
   "source": [
    "df.values[0][-1]"
   ]
  },
  {
   "cell_type": "code",
   "execution_count": 1,
   "metadata": {},
   "outputs": [
    {
     "ename": "NameError",
     "evalue": "name 'train_seq' is not defined",
     "output_type": "error",
     "traceback": [
      "\u001b[0;31m---------------------------------------------------------------------------\u001b[0m",
      "\u001b[0;31mNameError\u001b[0m                                 Traceback (most recent call last)",
      "\u001b[0;32m<ipython-input-1-68c089553f5b>\u001b[0m in \u001b[0;36m<module>\u001b[0;34m\u001b[0m\n\u001b[0;32m----> 1\u001b[0;31m \u001b[0mtrain_seq\u001b[0m\u001b[0;34m[\u001b[0m\u001b[0;34m'TSLA'\u001b[0m\u001b[0;34m]\u001b[0m\u001b[0;34m[\u001b[0m\u001b[0;36m1\u001b[0m\u001b[0;34m]\u001b[0m\u001b[0;34m\u001b[0m\u001b[0;34m\u001b[0m\u001b[0m\n\u001b[0m",
      "\u001b[0;31mNameError\u001b[0m: name 'train_seq' is not defined"
     ]
    }
   ],
   "source": [
    "train_seq['TSLA'][1]"
   ]
  },
  {
   "cell_type": "code",
   "execution_count": 22,
   "metadata": {},
   "outputs": [],
   "source": [
    "with open('./data/train-sequences.pkl', 'wb') as f:\n",
    "    pickle.dump(train_seq, f, protocol=pickle.HIGHEST_PROTOCOL)\n",
    "    \n",
    "with open('./data/test-sequences.pkl', 'wb') as f:\n",
    "    pickle.dump(val_seq, f, protocol=pickle.HIGHEST_PROTOCOL)"
   ]
  },
  {
   "cell_type": "code",
   "execution_count": 24,
   "metadata": {},
   "outputs": [
    {
     "name": "stdout",
     "output_type": "stream",
     "text": [
      "1504\n",
      "79\n"
     ]
    }
   ],
   "source": [
    "print(len(train_seq['APHA.TO']))\n",
    "print(len(val_seq['APHA.TO']))"
   ]
  },
  {
   "cell_type": "markdown",
   "metadata": {},
   "source": [
    "## New Normalization Approach\n",
    "\n",
    "Using built in pandas methods to use z scoring to make it completely error proof (at least not caused by me)\n",
    "\n",
    "Will build sequences of size 11, then z-score, set the closing of last row as the future price, and drop the last row."
   ]
  },
  {
   "cell_type": "code",
   "execution_count": 14,
   "metadata": {},
   "outputs": [
    {
     "name": "stderr",
     "output_type": "stream",
     "text": [
      "100%|██████████| 21/21 [04:40<00:00, 13.34s/it]\n"
     ]
    }
   ],
   "source": [
    "# df is dataframe of 11 rows\n",
    "def z_score(df):\n",
    "    stand = df.copy()\n",
    "    \n",
    "    # DAY OF WEEK ALSO GETS STANDARDIZED\n",
    "    stand['DayOfWeek']=[i.dayofweek for i in df.index]\n",
    "    \n",
    "    for column in stand.columns:\n",
    "        stand[column] = (stand[column] - stand[column].mean()) / stand[column].std()\n",
    "    \n",
    "    future = stand['Close'][10]\n",
    "    \n",
    "    # return first 10 rows of df, excluding the future row\n",
    "    return [stand.iloc[0:10].values, future]\n",
    "    \n",
    "\n",
    "all_seq = {}\n",
    "\n",
    "for ticker in tqdm(tickers):\n",
    "    all_seq[ticker] = []\n",
    "    \n",
    "    for i in range(len(col_d[ticker].index)-11):\n",
    "        sequence = z_score(col_d[ticker].iloc[i:i+11])\n",
    "        all_seq[ticker].append(sequence)\n",
    "        \n",
    "        \n",
    "\n"
   ]
  },
  {
   "cell_type": "code",
   "execution_count": 15,
   "metadata": {},
   "outputs": [
    {
     "data": {
      "text/plain": [
       "[array([[ 1.39088772,  1.26831302,  2.26475165,  1.93734709, -0.29332967,\n",
       "          0.62869461],\n",
       "        [ 1.64864442,  0.95793595,  0.76886414,  0.34254076, -0.13574952,\n",
       "          1.32025869],\n",
       "        [ 0.12050979, -0.22149768,  0.28941161,  0.50026982, -0.36081979,\n",
       "         -1.44599761],\n",
       "        [ 0.59920331,  0.72515499,  0.3661273 ,  0.16728764, -0.48723478,\n",
       "         -0.75443354],\n",
       "        [ 0.32303229, -0.12838382,  0.61544189,  0.21986399, -0.62995472,\n",
       "         -0.06286946],\n",
       "        [-0.30294951, -0.56291024, -0.38181645, -0.32342361, -0.68929236,\n",
       "          0.62869461],\n",
       "        [-1.00257546, -0.91984425, -0.24757084, -0.62135349, -0.65626967,\n",
       "          1.32025869],\n",
       "        [-1.33398069, -1.55611985, -0.89962226, -1.30484192, -0.29394885,\n",
       "         -1.44599761],\n",
       "        [-0.37659366,  1.53213687, -0.66948888,  1.18375407,  2.39925791,\n",
       "         -0.75443354],\n",
       "        [ 0.26780247, -0.12838382, -1.07222572, -1.05948421,  1.5021759 ,\n",
       "         -0.06286946]]),\n",
       " -1.0419601487583074]"
      ]
     },
     "execution_count": 15,
     "metadata": {},
     "output_type": "execute_result"
    }
   ],
   "source": [
    "all_seq['TSLA'][0]"
   ]
  },
  {
   "cell_type": "code",
   "execution_count": 16,
   "metadata": {},
   "outputs": [
    {
     "name": "stderr",
     "output_type": "stream",
     "text": [
      "100%|██████████| 21/21 [00:00<00:00, 6107.36it/s]\n"
     ]
    }
   ],
   "source": [
    "import random\n",
    "\n",
    "train = []\n",
    "test = []\n",
    "\n",
    "# test:train ratio\n",
    "RATIO = 0.05 \n",
    "\n",
    "for ticker in tqdm(tickers):\n",
    "    seqs = all_seq[ticker]\n",
    "    \n",
    "    index = math.floor(len(seqs)*RATIO)\n",
    "    \n",
    "    train.extend(seqs[:-index])\n",
    "    test.extend(seqs[-index:])\n",
    "    \n",
    "\n",
    "random.shuffle(train)\n",
    "random.shuffle(test)\n",
    "\n",
    "    \n"
   ]
  },
  {
   "cell_type": "code",
   "execution_count": 17,
   "metadata": {},
   "outputs": [],
   "source": [
    "import pickle\n",
    "\n",
    "with open('./data/new-train.pkl', 'wb') as f:\n",
    "    pickle.dump(train, f, protocol=pickle.HIGHEST_PROTOCOL)\n",
    "    \n",
    "with open('./data/new-test.pkl', 'wb') as f:\n",
    "    pickle.dump(test, f, protocol=pickle.HIGHEST_PROTOCOL)"
   ]
  },
  {
   "cell_type": "code",
   "execution_count": 9,
   "metadata": {},
   "outputs": [],
   "source": [
    "import pickle\n",
    "\n",
    "test = []\n",
    "with open('./data/new-test.pkl', 'rb') as f:\n",
    "    test = pickle.load(f)\n",
    "    \n",
    "train = []\n",
    "with open('./data/new-train.pkl', 'rb') as f:\n",
    "    train = pickle.load(f)\n",
    "    \n"
   ]
  },
  {
   "cell_type": "code",
   "execution_count": 13,
   "metadata": {},
   "outputs": [
    {
     "ename": "AssertionError",
     "evalue": "",
     "output_type": "error",
     "traceback": [
      "\u001b[0;31m---------------------------------------------------------------------------\u001b[0m",
      "\u001b[0;31mAssertionError\u001b[0m                            Traceback (most recent call last)",
      "\u001b[0;32m<ipython-input-13-80944de54b58>\u001b[0m in \u001b[0;36m<module>\u001b[0;34m\u001b[0m\n\u001b[1;32m      4\u001b[0m \u001b[0;34m\u001b[0m\u001b[0m\n\u001b[1;32m      5\u001b[0m     \u001b[0;32mfor\u001b[0m \u001b[0mr\u001b[0m \u001b[0;32min\u001b[0m \u001b[0mseq\u001b[0m\u001b[0;34m:\u001b[0m\u001b[0;34m\u001b[0m\u001b[0;34m\u001b[0m\u001b[0m\n\u001b[0;32m----> 6\u001b[0;31m         \u001b[0;32massert\u001b[0m \u001b[0mlen\u001b[0m\u001b[0;34m(\u001b[0m\u001b[0mr\u001b[0m\u001b[0;34m)\u001b[0m \u001b[0;34m==\u001b[0m \u001b[0;36m6\u001b[0m\u001b[0;34m\u001b[0m\u001b[0;34m\u001b[0m\u001b[0m\n\u001b[0m\u001b[1;32m      7\u001b[0m \u001b[0;34m\u001b[0m\u001b[0m\n",
      "\u001b[0;31mAssertionError\u001b[0m: "
     ]
    }
   ],
   "source": [
    "for t in test:\n",
    "    seq = t[0]\n",
    "    assert len(seq) == 10\n",
    "    \n",
    "    for r in seq:\n",
    "        assert len(r) == 6\n",
    "    "
   ]
  },
  {
   "cell_type": "code",
   "execution_count": null,
   "metadata": {},
   "outputs": [],
   "source": []
  }
 ],
 "metadata": {
  "kernelspec": {
   "display_name": "Python 3",
   "language": "python",
   "name": "python3"
  },
  "language_info": {
   "codemirror_mode": {
    "name": "ipython",
    "version": 3
   },
   "file_extension": ".py",
   "mimetype": "text/x-python",
   "name": "python",
   "nbconvert_exporter": "python",
   "pygments_lexer": "ipython3",
   "version": "3.8.5"
  }
 },
 "nbformat": 4,
 "nbformat_minor": 4
}
