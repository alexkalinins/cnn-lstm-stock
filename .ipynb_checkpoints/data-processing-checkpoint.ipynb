{
 "cells": [
  {
   "cell_type": "code",
   "execution_count": 55,
   "metadata": {},
   "outputs": [],
   "source": [
    "import yfinance as yf\n",
    "import pandas as pd\n",
    "import math\n",
    "from tqdm import tqdm as tqdm\n",
    "\n",
    "DOWNLOAD = True"
   ]
  },
  {
   "cell_type": "code",
   "execution_count": 56,
   "metadata": {},
   "outputs": [],
   "source": [
    "tickers = ['TSLA',\n",
    "           'AAPL',\n",
    "           'MSFT',\n",
    "           'U',\n",
    "           'CCL',\n",
    "           'TD',\n",
    "           'SPY',\n",
    "           'FB',\n",
    "           'V',\n",
    "           'DIS',\n",
    "           'CNR',\n",
    "           'WEED.TO',\n",
    "           'SNC.TO',\n",
    "           'SHOP',\n",
    "           'SU.TO',\n",
    "           'CM.TO',\n",
    "           'TD.TO',\n",
    "           'ENB.TO',\n",
    "           'APHA.TO',\n",
    "           'XIU.TO', # s&p/tsx composite 60\n",
    "           'AC.TO']"
   ]
  },
  {
   "cell_type": "code",
   "execution_count": null,
   "metadata": {},
   "outputs": [],
   "source": []
  },
  {
   "cell_type": "code",
   "execution_count": null,
   "metadata": {},
   "outputs": [],
   "source": []
  },
  {
   "cell_type": "code",
   "execution_count": null,
   "metadata": {},
   "outputs": [],
   "source": []
  },
  {
   "cell_type": "code",
   "execution_count": null,
   "metadata": {},
   "outputs": [],
   "source": []
  },
  {
   "cell_type": "code",
   "execution_count": 57,
   "metadata": {},
   "outputs": [],
   "source": [
    "# u = yf.Ticker(\"U\")\n",
    "# udata = u.history(period='2y', interval = '1h')"
   ]
  },
  {
   "cell_type": "code",
   "execution_count": 58,
   "metadata": {},
   "outputs": [],
   "source": [
    "#tdata.loc[tdata['name']=='2021-01-22']\n",
    "# tdata.tail(10)"
   ]
  },
  {
   "cell_type": "code",
   "execution_count": 59,
   "metadata": {},
   "outputs": [],
   "source": [
    "# datee=udata.iloc[1]\n",
    "# datee"
   ]
  },
  {
   "cell_type": "code",
   "execution_count": 60,
   "metadata": {},
   "outputs": [],
   "source": [
    "# import pandas as pd\n",
    "# datee.name == pd.Timestamp('2020-09-18')\n",
    "# true"
   ]
  },
  {
   "cell_type": "code",
   "execution_count": 61,
   "metadata": {},
   "outputs": [
    {
     "name": "stderr",
     "output_type": "stream",
     "text": [
      "100%|██████████| 21/21 [00:06<00:00,  3.40it/s]\n"
     ]
    }
   ],
   "source": [
    "raws = {}\n",
    "\n",
    "for ticker in tqdm(tickers):\n",
    "    t = yf.Ticker(ticker)\n",
    "    t_data = t.history(period = '10y', interval = '1d')\n",
    "    \n",
    "    raws[ticker] = t_data\n",
    "    "
   ]
  },
  {
   "cell_type": "code",
   "execution_count": 62,
   "metadata": {},
   "outputs": [
    {
     "name": "stderr",
     "output_type": "stream",
     "text": [
      "100%|██████████| 21/21 [00:00<00:00, 508.56it/s]\n"
     ]
    },
    {
     "data": {
      "text/html": [
       "<div>\n",
       "<style scoped>\n",
       "    .dataframe tbody tr th:only-of-type {\n",
       "        vertical-align: middle;\n",
       "    }\n",
       "\n",
       "    .dataframe tbody tr th {\n",
       "        vertical-align: top;\n",
       "    }\n",
       "\n",
       "    .dataframe thead th {\n",
       "        text-align: right;\n",
       "    }\n",
       "</style>\n",
       "<table border=\"1\" class=\"dataframe\">\n",
       "  <thead>\n",
       "    <tr style=\"text-align: right;\">\n",
       "      <th></th>\n",
       "      <th>Open</th>\n",
       "      <th>High</th>\n",
       "      <th>Low</th>\n",
       "      <th>Close</th>\n",
       "      <th>Volume</th>\n",
       "    </tr>\n",
       "    <tr>\n",
       "      <th>Date</th>\n",
       "      <th></th>\n",
       "      <th></th>\n",
       "      <th></th>\n",
       "      <th></th>\n",
       "      <th></th>\n",
       "    </tr>\n",
       "  </thead>\n",
       "  <tbody>\n",
       "    <tr>\n",
       "      <th>2011-01-24</th>\n",
       "      <td>4.706</td>\n",
       "      <td>4.962</td>\n",
       "      <td>4.646</td>\n",
       "      <td>4.898</td>\n",
       "      <td>8225500</td>\n",
       "    </tr>\n",
       "    <tr>\n",
       "      <th>2011-01-25</th>\n",
       "      <td>4.930</td>\n",
       "      <td>4.978</td>\n",
       "      <td>4.804</td>\n",
       "      <td>4.936</td>\n",
       "      <td>6357500</td>\n",
       "    </tr>\n",
       "    <tr>\n",
       "      <th>2011-01-26</th>\n",
       "      <td>4.942</td>\n",
       "      <td>4.976</td>\n",
       "      <td>4.820</td>\n",
       "      <td>4.950</td>\n",
       "      <td>5399500</td>\n",
       "    </tr>\n",
       "    <tr>\n",
       "      <th>2011-01-27</th>\n",
       "      <td>4.948</td>\n",
       "      <td>5.016</td>\n",
       "      <td>4.906</td>\n",
       "      <td>4.984</td>\n",
       "      <td>4478500</td>\n",
       "    </tr>\n",
       "    <tr>\n",
       "      <th>2011-01-28</th>\n",
       "      <td>4.976</td>\n",
       "      <td>4.976</td>\n",
       "      <td>4.750</td>\n",
       "      <td>4.802</td>\n",
       "      <td>5242000</td>\n",
       "    </tr>\n",
       "  </tbody>\n",
       "</table>\n",
       "</div>"
      ],
      "text/plain": [
       "             Open   High    Low  Close   Volume\n",
       "Date                                           \n",
       "2011-01-24  4.706  4.962  4.646  4.898  8225500\n",
       "2011-01-25  4.930  4.978  4.804  4.936  6357500\n",
       "2011-01-26  4.942  4.976  4.820  4.950  5399500\n",
       "2011-01-27  4.948  5.016  4.906  4.984  4478500\n",
       "2011-01-28  4.976  4.976  4.750  4.802  5242000"
      ]
     },
     "execution_count": 62,
     "metadata": {},
     "output_type": "execute_result"
    }
   ],
   "source": [
    "col_d = {} # dropped columns\n",
    "\n",
    "for ticker in tqdm(tickers):\n",
    "    raw = raws[ticker]\n",
    "    \n",
    "    col_d[ticker] = raw.drop(columns=['Dividends', 'Stock Splits'])\n",
    "    \n",
    "col_d['TSLA'].head()"
   ]
  },
  {
   "cell_type": "code",
   "execution_count": 63,
   "metadata": {},
   "outputs": [],
   "source": [
    "import numpy as np"
   ]
  },
  {
   "cell_type": "code",
   "execution_count": 64,
   "metadata": {},
   "outputs": [
    {
     "name": "stderr",
     "output_type": "stream",
     "text": [
      "100%|██████████| 21/21 [00:00<00:00, 55.39it/s]\n"
     ]
    }
   ],
   "source": [
    "good = {}\n",
    "\n",
    "for ticker in tqdm(tickers):\n",
    "    df = col_d[ticker]\n",
    "    df.dropna(inplace=True)  # drops NaN rows\n",
    "    \n",
    "    new_cols={}\n",
    "    \n",
    "    for col in df.columns: # todo do all need normaling?\n",
    "        new_cols[col] = df[[col]].values.reshape(-1)\n",
    "        \n",
    "    new_cols['DayOfWeek'] = [i.dayofweek/4 for i in df.index] # day of the week on [0,1]\n",
    "    \n",
    "    good[ticker] = pd.DataFrame(data=new_cols)\n",
    "\n",
    "    "
   ]
  },
  {
   "cell_type": "code",
   "execution_count": 65,
   "metadata": {},
   "outputs": [],
   "source": [
    "import pickle\n",
    "\n",
    "#serializing for future use\n",
    "\n",
    "with open('./data/std-stocks.pkl', 'wb') as f:\n",
    "    pickle.dump(good, f, protocol=pickle.HIGHEST_PROTOCOL)"
   ]
  },
  {
   "cell_type": "markdown",
   "metadata": {},
   "source": [
    "## Variables\n",
    "- Open (n)\n",
    "- High (n)\n",
    "- Low (n)\n",
    "- Close (n)\n",
    "- Volume (n)\n",
    "- Day of Week (ex. weekends)\n"
   ]
  },
  {
   "cell_type": "code",
   "execution_count": 66,
   "metadata": {},
   "outputs": [
    {
     "name": "stdout",
     "output_type": "stream",
     "text": [
      "0         4.898000\n",
      "1         4.936000\n",
      "2         4.950000\n",
      "3         4.984000\n",
      "4         4.802000\n",
      "           ...    \n",
      "2512    826.159973\n",
      "2513    844.549988\n",
      "2514    850.450012\n",
      "2515    844.989990\n",
      "2516    846.640015\n",
      "Name: Close, Length: 2517, dtype: float64\n",
      "          Future\n",
      "0       4.936000\n",
      "1       4.950000\n",
      "2       4.984000\n",
      "3       4.802000\n",
      "4       4.820000\n",
      "...          ...\n",
      "2512  844.549988\n",
      "2513  850.450012\n",
      "2514  844.989990\n",
      "2515  846.640015\n",
      "2516         NaN\n",
      "\n",
      "[2517 rows x 1 columns]\n"
     ]
    }
   ],
   "source": [
    "# creating the 'answers'/future price\n",
    "outData = pd.DataFrame(data={'Future':[]})\n",
    "\n",
    "outData['Future'] = good['TSLA']['Close'].shift(-1)\n",
    "\n",
    "print(good['TSLA']['Close'])\n",
    "\n",
    "print(outData)"
   ]
  },
  {
   "cell_type": "code",
   "execution_count": 67,
   "metadata": {},
   "outputs": [
    {
     "name": "stderr",
     "output_type": "stream",
     "text": [
      "100%|██████████| 21/21 [00:00<00:00, 284.91it/s]\n"
     ]
    }
   ],
   "source": [
    "with_future = {}    \n",
    "    \n",
    "# adding future price\n",
    "for ticker in tqdm(good):\n",
    "    df = pd.DataFrame(good[ticker])\n",
    "    future = df['Close'].shift(-1) #shifts the values back by one\n",
    "    df.insert(len(df.columns), 'Future', future)\n",
    "    df.dropna(inplace=True)\n",
    "    \n",
    "    with_future[ticker] = df\n",
    "    \n",
    "    \n",
    "    "
   ]
  },
  {
   "cell_type": "code",
   "execution_count": 68,
   "metadata": {},
   "outputs": [
    {
     "data": {
      "text/html": [
       "<div>\n",
       "<style scoped>\n",
       "    .dataframe tbody tr th:only-of-type {\n",
       "        vertical-align: middle;\n",
       "    }\n",
       "\n",
       "    .dataframe tbody tr th {\n",
       "        vertical-align: top;\n",
       "    }\n",
       "\n",
       "    .dataframe thead th {\n",
       "        text-align: right;\n",
       "    }\n",
       "</style>\n",
       "<table border=\"1\" class=\"dataframe\">\n",
       "  <thead>\n",
       "    <tr style=\"text-align: right;\">\n",
       "      <th></th>\n",
       "      <th>Open</th>\n",
       "      <th>High</th>\n",
       "      <th>Low</th>\n",
       "      <th>Close</th>\n",
       "      <th>Volume</th>\n",
       "      <th>DayOfWeek</th>\n",
       "      <th>Future</th>\n",
       "    </tr>\n",
       "  </thead>\n",
       "  <tbody>\n",
       "    <tr>\n",
       "      <th>0</th>\n",
       "      <td>4.706000</td>\n",
       "      <td>4.962000</td>\n",
       "      <td>4.646000</td>\n",
       "      <td>4.898000</td>\n",
       "      <td>8225500</td>\n",
       "      <td>0.00</td>\n",
       "      <td>4.936000</td>\n",
       "    </tr>\n",
       "    <tr>\n",
       "      <th>1</th>\n",
       "      <td>4.930000</td>\n",
       "      <td>4.978000</td>\n",
       "      <td>4.804000</td>\n",
       "      <td>4.936000</td>\n",
       "      <td>6357500</td>\n",
       "      <td>0.25</td>\n",
       "      <td>4.950000</td>\n",
       "    </tr>\n",
       "    <tr>\n",
       "      <th>2</th>\n",
       "      <td>4.942000</td>\n",
       "      <td>4.976000</td>\n",
       "      <td>4.820000</td>\n",
       "      <td>4.950000</td>\n",
       "      <td>5399500</td>\n",
       "      <td>0.50</td>\n",
       "      <td>4.984000</td>\n",
       "    </tr>\n",
       "    <tr>\n",
       "      <th>3</th>\n",
       "      <td>4.948000</td>\n",
       "      <td>5.016000</td>\n",
       "      <td>4.906000</td>\n",
       "      <td>4.984000</td>\n",
       "      <td>4478500</td>\n",
       "      <td>0.75</td>\n",
       "      <td>4.802000</td>\n",
       "    </tr>\n",
       "    <tr>\n",
       "      <th>4</th>\n",
       "      <td>4.976000</td>\n",
       "      <td>4.976000</td>\n",
       "      <td>4.750000</td>\n",
       "      <td>4.802000</td>\n",
       "      <td>5242000</td>\n",
       "      <td>1.00</td>\n",
       "      <td>4.820000</td>\n",
       "    </tr>\n",
       "    <tr>\n",
       "      <th>...</th>\n",
       "      <td>...</td>\n",
       "      <td>...</td>\n",
       "      <td>...</td>\n",
       "      <td>...</td>\n",
       "      <td>...</td>\n",
       "      <td>...</td>\n",
       "      <td>...</td>\n",
       "    </tr>\n",
       "    <tr>\n",
       "      <th>2511</th>\n",
       "      <td>843.390015</td>\n",
       "      <td>863.000000</td>\n",
       "      <td>838.750000</td>\n",
       "      <td>845.000000</td>\n",
       "      <td>31266300</td>\n",
       "      <td>0.75</td>\n",
       "      <td>826.159973</td>\n",
       "    </tr>\n",
       "    <tr>\n",
       "      <th>2512</th>\n",
       "      <td>852.000000</td>\n",
       "      <td>859.900024</td>\n",
       "      <td>819.099976</td>\n",
       "      <td>826.159973</td>\n",
       "      <td>38777600</td>\n",
       "      <td>1.00</td>\n",
       "      <td>844.549988</td>\n",
       "    </tr>\n",
       "    <tr>\n",
       "      <th>2513</th>\n",
       "      <td>837.799988</td>\n",
       "      <td>850.000000</td>\n",
       "      <td>833.000000</td>\n",
       "      <td>844.549988</td>\n",
       "      <td>25367000</td>\n",
       "      <td>0.25</td>\n",
       "      <td>850.450012</td>\n",
       "    </tr>\n",
       "    <tr>\n",
       "      <th>2514</th>\n",
       "      <td>858.739990</td>\n",
       "      <td>859.500000</td>\n",
       "      <td>837.280029</td>\n",
       "      <td>850.450012</td>\n",
       "      <td>25665900</td>\n",
       "      <td>0.50</td>\n",
       "      <td>844.989990</td>\n",
       "    </tr>\n",
       "    <tr>\n",
       "      <th>2515</th>\n",
       "      <td>855.000000</td>\n",
       "      <td>855.719971</td>\n",
       "      <td>841.419983</td>\n",
       "      <td>844.989990</td>\n",
       "      <td>20598100</td>\n",
       "      <td>0.75</td>\n",
       "      <td>846.640015</td>\n",
       "    </tr>\n",
       "  </tbody>\n",
       "</table>\n",
       "<p>2516 rows × 7 columns</p>\n",
       "</div>"
      ],
      "text/plain": [
       "            Open        High         Low       Close    Volume  DayOfWeek  \\\n",
       "0       4.706000    4.962000    4.646000    4.898000   8225500       0.00   \n",
       "1       4.930000    4.978000    4.804000    4.936000   6357500       0.25   \n",
       "2       4.942000    4.976000    4.820000    4.950000   5399500       0.50   \n",
       "3       4.948000    5.016000    4.906000    4.984000   4478500       0.75   \n",
       "4       4.976000    4.976000    4.750000    4.802000   5242000       1.00   \n",
       "...          ...         ...         ...         ...       ...        ...   \n",
       "2511  843.390015  863.000000  838.750000  845.000000  31266300       0.75   \n",
       "2512  852.000000  859.900024  819.099976  826.159973  38777600       1.00   \n",
       "2513  837.799988  850.000000  833.000000  844.549988  25367000       0.25   \n",
       "2514  858.739990  859.500000  837.280029  850.450012  25665900       0.50   \n",
       "2515  855.000000  855.719971  841.419983  844.989990  20598100       0.75   \n",
       "\n",
       "          Future  \n",
       "0       4.936000  \n",
       "1       4.950000  \n",
       "2       4.984000  \n",
       "3       4.802000  \n",
       "4       4.820000  \n",
       "...          ...  \n",
       "2511  826.159973  \n",
       "2512  844.549988  \n",
       "2513  850.450012  \n",
       "2514  844.989990  \n",
       "2515  846.640015  \n",
       "\n",
       "[2516 rows x 7 columns]"
      ]
     },
     "execution_count": 68,
     "metadata": {},
     "output_type": "execute_result"
    }
   ],
   "source": [
    "with_future['TSLA']"
   ]
  },
  {
   "cell_type": "code",
   "execution_count": 69,
   "metadata": {},
   "outputs": [
    {
     "name": "stderr",
     "output_type": "stream",
     "text": [
      "100%|██████████| 21/21 [00:21<00:00,  1.01s/it]\n"
     ]
    }
   ],
   "source": [
    "import random\n",
    "from collections import deque\n",
    "\n",
    "#data is 2D array where each subarray is row\n",
    "\n",
    "## BROKEN ##\n",
    "def norm_seq(data, future):\n",
    "    nfuture = future\n",
    "    \n",
    "    for col in range(len(data[0])):\n",
    "        if col != 5:\n",
    "            column = []\n",
    "\n",
    "            for row in range(len(data)):\n",
    "                column.append(data[row][col])\n",
    "\n",
    "            if col == 3:\n",
    "                column.append(future)\n",
    "\n",
    "            sigma = np.std(column)\n",
    "            mu = np.mean(column)\n",
    "            \n",
    "            # if the values are always the same, then sd will be 0\n",
    "            sigma = 1 if sigma == 0 else sigma\n",
    "\n",
    "            norm = lambda val: (val-mu)/sigma\n",
    "\n",
    "            for row in range(len(data)):\n",
    "                data[row][col] = norm(data[row][col])\n",
    "\n",
    "            if col == 3:\n",
    "                # price column\n",
    "                nfuture = norm(future)\n",
    "    \n",
    "    return data, nfuture\n",
    "\n",
    "\n",
    "\n",
    "\n",
    "# converts data frame into individual sequences \n",
    "# df the dataframe where last column is 'future value'\n",
    "def to_seq(df):\n",
    "    sequences = []\n",
    "    \n",
    "    # deque for rolling over\n",
    "    day_sequence = deque(maxlen = 10) # deque for storing the days\n",
    "    \n",
    "    for row in df.values:\n",
    "        # appends values (in list) to day_sequence, excluding future price\n",
    "        day_sequence.append(row[:-1])\n",
    "        \n",
    "        if len(day_sequence) == 10:\n",
    "            # deque fully populated with 10 days of data\n",
    "            norm_data, norm_future = norm_seq(np.array(day_sequence), row[-1])\n",
    "            sequences.append([norm_data, norm_future])\n",
    "            \n",
    "            \n",
    "            \n",
    "    return sequences\n",
    "\n",
    "\n",
    "\n",
    "\n",
    "\n",
    "train_seq = {} # train sequences\n",
    "val_seq = {} #  out of sample val (last 5%)\n",
    "\n",
    "#convert into sequences\n",
    "for ticker in tqdm(with_future):\n",
    "    seq = to_seq(with_future[ticker])\n",
    "    \n",
    "    split = int(len(seq)*0.05)\n",
    "    \n",
    "    train = seq[:-split]  # 95%\n",
    "    test = seq[-split:]  # 5%\n",
    "    \n",
    "    random.shuffle(train)\n",
    "    random.shuffle(test)\n",
    "    \n",
    "    train_seq[ticker] = train\n",
    "    val_seq[ticker] = test\n",
    "\n"
   ]
  },
  {
   "cell_type": "code",
   "execution_count": 70,
   "metadata": {},
   "outputs": [
    {
     "data": {
      "text/plain": [
       "3.069999933242798"
      ]
     },
     "execution_count": 70,
     "metadata": {},
     "output_type": "execute_result"
    }
   ],
   "source": [
    "df.values[0][-1]"
   ]
  },
  {
   "cell_type": "code",
   "execution_count": 71,
   "metadata": {},
   "outputs": [
    {
     "data": {
      "text/plain": [
       "[array([[ 0.6595362 ,  1.01885307,  0.51681092,  0.38750222,  2.33748912,\n",
       "          1.        ],\n",
       "        [ 0.06194939,  0.13360583,  0.25691427,  0.74705128, -0.53695831,\n",
       "          0.        ],\n",
       "        [ 0.7199585 ,  0.53920677,  0.66483148,  0.82767422, -0.71578595,\n",
       "          0.25      ],\n",
       "        [ 0.68742342,  0.52217207,  0.94767763,  0.81966255, -1.46807104,\n",
       "          0.5       ],\n",
       "        [ 0.73589297,  0.88452511,  1.03890004,  1.32994336, -0.0953767 ,\n",
       "          0.75      ],\n",
       "        [ 1.05792572,  0.91270048,  0.9000584 ,  0.77509404, -0.6988833 ,\n",
       "          1.        ],\n",
       "        [ 0.19474674,  0.11525884, -0.27320697, -0.09073   ,  0.08544639,\n",
       "          0.        ],\n",
       "        [-0.56617912, -0.81192402, -0.85783272, -0.66110217, -0.25143272,\n",
       "          0.25      ],\n",
       "        [-1.42537639, -1.10940771, -1.08445412, -0.86441218,  0.43770222,\n",
       "          0.5       ],\n",
       "        [-2.12587742, -2.20499043, -2.10969893, -1.74525954,  0.90587028,\n",
       "          0.75      ]]),\n",
       " -1.5254237827145518]"
      ]
     },
     "execution_count": 71,
     "metadata": {},
     "output_type": "execute_result"
    }
   ],
   "source": [
    "train_seq['TSLA'][1]"
   ]
  },
  {
   "cell_type": "code",
   "execution_count": 72,
   "metadata": {},
   "outputs": [],
   "source": [
    "with open('./data/train-sequences.pkl', 'wb') as f:\n",
    "    pickle.dump(train_seq, f, protocol=pickle.HIGHEST_PROTOCOL)\n",
    "    \n",
    "with open('./data/test-sequences.pkl', 'wb') as f:\n",
    "    pickle.dump(train_seq, f, protocol=pickle.HIGHEST_PROTOCOL)"
   ]
  },
  {
   "cell_type": "code",
   "execution_count": 78,
   "metadata": {},
   "outputs": [
    {
     "data": {
      "text/plain": [
       "2150"
      ]
     },
     "execution_count": 78,
     "metadata": {},
     "output_type": "execute_result"
    }
   ],
   "source": [
    "len(train_seq['APHA.TO'])"
   ]
  },
  {
   "cell_type": "code",
   "execution_count": null,
   "metadata": {},
   "outputs": [],
   "source": []
  },
  {
   "cell_type": "code",
   "execution_count": null,
   "metadata": {},
   "outputs": [],
   "source": []
  }
 ],
 "metadata": {
  "kernelspec": {
   "display_name": "Python 3",
   "language": "python",
   "name": "python3"
  },
  "language_info": {
   "codemirror_mode": {
    "name": "ipython",
    "version": 3
   },
   "file_extension": ".py",
   "mimetype": "text/x-python",
   "name": "python",
   "nbconvert_exporter": "python",
   "pygments_lexer": "ipython3",
   "version": "3.6.9"
  }
 },
 "nbformat": 4,
 "nbformat_minor": 2
}
