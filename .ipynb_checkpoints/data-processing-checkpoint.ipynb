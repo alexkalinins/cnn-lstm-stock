{
 "cells": [
  {
   "cell_type": "code",
   "execution_count": 3,
   "metadata": {},
   "outputs": [],
   "source": [
    "import yfinance as yf\n",
    "import pandas as pd\n",
    "import math\n",
    "from tqdm import tqdm as tqdm\n",
    "import pickle\n",
    "import numpy as np\n",
    "import random\n",
    "\n",
    "DOWNLOAD = True"
   ]
  },
  {
   "cell_type": "code",
   "execution_count": null,
   "metadata": {},
   "outputs": [],
   "source": [
    "tickers = ['TSLA',\n",
    "           'AAPL',\n",
    "           'MSFT',\n",
    "           'U',\n",
    "           'CCL',\n",
    "           'TD',\n",
    "           'SPY',\n",
    "           'FB',\n",
    "           'V',\n",
    "           'DIS',\n",
    "           'CNR',\n",
    "           'HD',\n",
    "           'UNH',\n",
    "           'MCD',\n",
    "           'MMM',\n",
    "           'ATVI',\n",
    "           'ADBE',\n",
    "           'AMD',\n",
    "           'GOOG',\n",
    "           'AMZN',\n",
    "           'AXP',\n",
    "           'BAC',\n",
    "           'BA',\n",
    "           'CVX',\n",
    "           'C',\n",
    "           'KO',\n",
    "           'DOW',\n",
    "           'GM',\n",
    "           'GILD',\n",
    "           'INTC',\n",
    "           'MA',\n",
    "           'NVDA',\n",
    "           'TXN',\n",
    "           'XRX',\n",
    "           'RY.TO',\n",
    "           'CP.TO',\n",
    "           'TRI.TO',\n",
    "           'ATD-B.TO',\n",
    "           'L.TO',\n",
    "           'DOL.TO',\n",
    "           'BB.TO',\n",
    "           'DOO.TO',\n",
    "           'WEED.TO',\n",
    "           'SNC.TO',\n",
    "           'SHOP',\n",
    "           'SU.TO',\n",
    "           'CM.TO',\n",
    "           'TD.TO',\n",
    "           'ENB.TO',\n",
    "           'APHA.TO',\n",
    "           'XIU.TO', # s&p/tsx composite 60\n",
    "           'AC.TO']"
   ]
  },
  {
   "cell_type": "code",
   "execution_count": null,
   "metadata": {},
   "outputs": [],
   "source": [
    "raws = {}\n",
    "\n",
    "for ticker in tqdm(tickers):\n",
    "    t = yf.Ticker(ticker)\n",
    "    t_data = t.history(period = '10y', interval = '1d')\n",
    "    \n",
    "    raws[ticker] = t_data\n",
    "    "
   ]
  },
  {
   "cell_type": "code",
   "execution_count": null,
   "metadata": {},
   "outputs": [],
   "source": [
    "col_d = {} # dropped columns\n",
    "\n",
    "for ticker in tqdm(tickers):\n",
    "    raw = raws[ticker]\n",
    "    \n",
    "    col_d[ticker] = raw.drop(columns=['Dividends', 'Stock Splits'])\n",
    "    \n",
    "col_d['TSLA'].head()"
   ]
  },
  {
   "cell_type": "code",
   "execution_count": null,
   "metadata": {},
   "outputs": [],
   "source": []
  },
  {
   "cell_type": "code",
   "execution_count": null,
   "metadata": {},
   "outputs": [],
   "source": [
    "good = {}\n",
    "\n",
    "for ticker in tqdm(tickers):\n",
    "    df = col_d[ticker]\n",
    "    df.dropna(inplace=True)  # drops NaN rows\n",
    "    \n",
    "    pct = df.pct_change()\n",
    "        \n",
    "    pct['DayOfWeek'] = [i.dayofweek/4 for i in df.index] # day of the week on [0,1]\n",
    "    \n",
    "    pct.dropna(inplace=True)\n",
    "    \n",
    "    good[ticker] = pct\n",
    "    \n",
    "\n",
    "print(good['TSLA'])\n",
    "\n",
    "    "
   ]
  },
  {
   "cell_type": "code",
   "execution_count": null,
   "metadata": {},
   "outputs": [],
   "source": [
    "\n",
    "#serializing for future use\n",
    "\n",
    "with open('./data/std-stocks.pkl', 'wb') as f:\n",
    "    pickle.dump(good, f, protocol=pickle.HIGHEST_PROTOCOL)"
   ]
  },
  {
   "cell_type": "markdown",
   "metadata": {},
   "source": [
    "## Variables\n",
    "- Open (n)\n",
    "- High (n)\n",
    "- Low (n)\n",
    "- Close (n)\n",
    "- Volume (n)\n",
    "- Day of Week (ex. weekends)\n"
   ]
  },
  {
   "cell_type": "code",
   "execution_count": null,
   "metadata": {},
   "outputs": [],
   "source": [
    "with open('./data/train-sequences.pkl', 'wb') as f:\n",
    "    pickle.dump(train_seq, f, protocol=pickle.HIGHEST_PROTOCOL)\n",
    "    \n",
    "with open('./data/test-sequences.pkl', 'wb') as f:\n",
    "    pickle.dump(val_seq, f, protocol=pickle.HIGHEST_PROTOCOL)"
   ]
  },
  {
   "cell_type": "code",
   "execution_count": null,
   "metadata": {},
   "outputs": [],
   "source": [
    "print(len(train_seq['APHA.TO']))\n",
    "print(len(val_seq['APHA.TO']))"
   ]
  },
  {
   "cell_type": "markdown",
   "metadata": {},
   "source": [
    "## New Normalization Approach\n",
    "\n",
    "Using built in pandas methods to use z scoring to make it completely error proof (at least not caused by me)\n",
    "\n",
    "Will build sequences of size 11, then z-score, set the closing of last row as the future price, and drop the last row."
   ]
  },
  {
   "cell_type": "code",
   "execution_count": null,
   "metadata": {},
   "outputs": [],
   "source": [
    "# df is dataframe of 11 rows\n",
    "def z_score(df):\n",
    "    # DAY OF WEEK ALSO GETS STANDARDIZED\n",
    "    df['DayOfWeek']=[i.dayofweek for i in df.index]\n",
    "    \n",
    "    for column in df.columns:\n",
    "        std = df[column].std()\n",
    "        \n",
    "        # if all values are the same, then std=0, so dividing by std would make a NaN\n",
    "        df[column] = (df[column] - df[column].mean()) / std if std != 0 else 0\n",
    "    \n",
    "    future = df['Close'][10]\n",
    "    \n",
    "    final_seq_df = df.iloc[0:10]\n",
    "    \n",
    "    nan_flag = final_seq_df.isnull().values.any()\n",
    "    \n",
    "    \n",
    "    # return first 10 rows of df, excluding the future row, also nan flag\n",
    "    return [final_seq_df.values, future], nan_flag\n",
    "    \n",
    "\n",
    "all_seq = {}\n",
    "\n",
    "for ticker in tqdm(tickers):\n",
    "    all_seq[ticker] = []\n",
    "    \n",
    "    for i in range(len(col_d[ticker].index)-11):\n",
    "        sequence, nan_flag = z_score(col_d[ticker].iloc[i:i+11])\n",
    "        \n",
    "        if(nan_flag):\n",
    "            print('Found a NaN! Dropping sequence')\n",
    "        else:\n",
    "            all_seq[ticker].append(sequence)\n",
    "        \n",
    "        \n",
    "\n"
   ]
  },
  {
   "cell_type": "code",
   "execution_count": null,
   "metadata": {},
   "outputs": [],
   "source": [
    "all_seq['TSLA'][0]"
   ]
  },
  {
   "cell_type": "code",
   "execution_count": null,
   "metadata": {},
   "outputs": [],
   "source": [
    "\n",
    "train = []\n",
    "test = []\n",
    "\n",
    "# test:train ratio\n",
    "RATIO = 0.05 \n",
    "\n",
    "for ticker in tqdm(tickers):\n",
    "    seqs = all_seq[ticker]\n",
    "    \n",
    "    index = math.floor(len(seqs)*RATIO)\n",
    "    \n",
    "    train.extend(seqs[:-index])\n",
    "    test.extend(seqs[-index:])\n",
    "    \n",
    "\n",
    "random.shuffle(train)\n",
    "random.shuffle(test)\n",
    "\n",
    "    \n"
   ]
  },
  {
   "cell_type": "code",
   "execution_count": null,
   "metadata": {},
   "outputs": [],
   "source": [
    "\n",
    "with open('./data/new-train.pkl', 'wb') as f:\n",
    "    pickle.dump(train, f, protocol=pickle.HIGHEST_PROTOCOL)\n",
    "    \n",
    "with open('./data/new-test.pkl', 'wb') as f:\n",
    "    pickle.dump(test, f, protocol=pickle.HIGHEST_PROTOCOL)"
   ]
  },
  {
   "cell_type": "code",
   "execution_count": null,
   "metadata": {},
   "outputs": [],
   "source": [
    "\n",
    "\n",
    "test = []\n",
    "with open('./data/new-test.pkl', 'rb') as f:\n",
    "    test = pickle.load(f)\n",
    "    \n",
    "train = []\n",
    "with open('./data/new-train.pkl', 'rb') as f:\n",
    "    train = pickle.load(f)\n",
    "    \n"
   ]
  },
  {
   "cell_type": "code",
   "execution_count": null,
   "metadata": {},
   "outputs": [],
   "source": [
    "for t in test:\n",
    "    seq = t[0]\n",
    "    assert len(seq) == 10\n",
    "    \n",
    "    for r in seq:\n",
    "        assert len(r) == 6\n",
    "    "
   ]
  },
  {
   "cell_type": "code",
   "execution_count": null,
   "metadata": {},
   "outputs": [],
   "source": []
  }
 ],
 "metadata": {
  "kernelspec": {
   "display_name": "Python 3",
   "language": "python",
   "name": "python3"
  },
  "language_info": {
   "codemirror_mode": {
    "name": "ipython",
    "version": 3
   },
   "file_extension": ".py",
   "mimetype": "text/x-python",
   "name": "python",
   "nbconvert_exporter": "python",
   "pygments_lexer": "ipython3",
   "version": "3.8.5"
  }
 },
 "nbformat": 4,
 "nbformat_minor": 4
}
