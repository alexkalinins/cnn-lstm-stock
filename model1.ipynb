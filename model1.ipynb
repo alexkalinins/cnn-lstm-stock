{
 "cells": [
  {
   "cell_type": "code",
   "execution_count": 2,
   "metadata": {},
   "outputs": [],
   "source": [
    "import pickle\n",
    "from tqdm import tqdm as tqdm\n",
    "import numpy as np\n",
    "\n"
   ]
  },
  {
   "cell_type": "code",
   "execution_count": 3,
   "metadata": {},
   "outputs": [],
   "source": [
    "test_seq={}\n",
    "train_seq={}\n",
    "\n",
    "with open('./data/test-sequences.pkl', 'rb') as f:\n",
    "    test_seq = pickle.load(f)\n",
    "\n",
    "\n"
   ]
  },
  {
   "cell_type": "code",
   "execution_count": 4,
   "metadata": {},
   "outputs": [
    {
     "data": {
      "text/plain": [
       "[array([[-0.95932994, -1.02903653, -1.24241996, -0.50625126,  2.32832322,\n",
       "          0.25      ],\n",
       "        [-0.23705713,  0.36155201,  0.27101081, -0.00234902,  1.07843287,\n",
       "          0.5       ],\n",
       "        [-0.21853414,  0.08343508,  0.49978489, -0.2995219 ,  0.17510769,\n",
       "          0.75      ],\n",
       "        [-0.97785292, -1.47075188, -1.4183997 , -1.57865691, -0.66772239,\n",
       "          1.        ],\n",
       "        [-1.55196834, -0.66911844, -0.87285958, -0.60961439, -1.29748667,\n",
       "          0.        ],\n",
       "        [ 0.30002115,  0.27975475,  0.11262779,  0.08809449, -0.39026519,\n",
       "          0.25      ],\n",
       "        [ 1.54085808,  0.47607051,  0.95732885, -0.20907838, -0.65070173,\n",
       "          0.5       ],\n",
       "        [ 0.31854414, -0.6363972 , -0.27452931, -0.93262959, -0.41958993,\n",
       "          0.75      ],\n",
       "        [ 0.0407435 ,  0.27975475, -0.11614629,  0.38526737, -0.57400625,\n",
       "          1.        ],\n",
       "        [ 1.7445756 ,  2.32473697,  2.08360252,  1.78068823,  0.41790837,\n",
       "          0.        ]]),\n",
       " 1.8840513655980198]"
      ]
     },
     "execution_count": 4,
     "metadata": {},
     "output_type": "execute_result"
    }
   ],
   "source": [
    "test_seq['TSLA'][0]"
   ]
  },
  {
   "cell_type": "code",
   "execution_count": null,
   "metadata": {},
   "outputs": [],
   "source": []
  }
 ],
 "metadata": {
  "kernelspec": {
   "display_name": "Python 3",
   "language": "python",
   "name": "python3"
  },
  "language_info": {
   "codemirror_mode": {
    "name": "ipython",
    "version": 3
   },
   "file_extension": ".py",
   "mimetype": "text/x-python",
   "name": "python",
   "nbconvert_exporter": "python",
   "pygments_lexer": "ipython3",
   "version": "3.6.9"
  }
 },
 "nbformat": 4,
 "nbformat_minor": 2
}
